{
 "cells": [
  {
   "cell_type": "markdown",
   "metadata": {},
   "source": [
    "# Scripting Sculptor 03 - Fitting and Analzying models using MCMC\n",
    "\n",
    "This tutorial notebook focuses on using *Sculptor's* modules to fit and analyze a model using the maxmimum likelihood Markov Chain Monte Carlo method implemented in [LMFIT](https://lmfit.github.io/lmfit-py/index.html) using the [emcee](https://emcee.readthedocs.io/en/stable/#) backend. You can find more information on how LMFIT uses emcee [here](https://lmfit.github.io/lmfit-py/examples/example_emcee_Model_interface.html)."
   ]
  },
  {
   "cell_type": "code",
   "execution_count": null,
   "metadata": {},
   "outputs": [],
   "source": [
    "%matplotlib inline\n",
    "\n",
    "import corner\n",
    "import matplotlib.pyplot as plt\n",
    "\n",
    "from astropy.cosmology import FlatLambdaCDM\n",
    "\n",
    "from sculptor import specfit as scfit\n",
    "from sculptor import specmodel as scmod"
   ]
  },
  {
   "cell_type": "markdown",
   "metadata": {},
   "source": [
    "## Fitting a model using MCMC\n",
    "\n",
    "We begin by loading the example spectrum fit to an SDSS quasar spectrum we have been using in previous tutorials. "
   ]
  },
  {
   "cell_type": "code",
   "execution_count": null,
   "metadata": {},
   "outputs": [],
   "source": [
    "# Instantiate an empty SpecFit object\n",
    "fit = scfit.SpecFit()\n",
    "# Load the example spectrum fit\n",
    "fit.load('../example_spectrum_fit')"
   ]
  },
  {
   "cell_type": "markdown",
   "metadata": {},
   "source": [
    "In the next step we need to change the fitting method. Just as a reminder the full list of fitting methods is available as a globa variable in the *SpecModel* module:"
   ]
  },
  {
   "cell_type": "code",
   "execution_count": null,
   "metadata": {},
   "outputs": [],
   "source": [
    "for key in scmod.fitting_methods:\n",
    "    print('Name: {} \\n Method {}'.format(key, scmod.fitting_methods[key]))"
   ]
  },
  {
   "cell_type": "markdown",
   "metadata": {},
   "source": [
    "Let us now set the fitting method to 'Maximum likelihood via Monte-Carlo Markov Chain'."
   ]
  },
  {
   "cell_type": "code",
   "execution_count": null,
   "metadata": {},
   "outputs": [],
   "source": [
    "# Setting the fit method to MCMC via emcee\n",
    "fit.fitting_method = 'Maximum likelihood via Monte-Carlo Markov Chain'"
   ]
  },
  {
   "cell_type": "markdown",
   "metadata": {},
   "source": [
    "This fitting method takes additional keyword arguments that specify\n",
    "* the number of MCMC steps (*steps*),\n",
    "* the number of steps considered to be the burn in phase (*burn*), which will be discarded,\n",
    "* the number of walkers (*nwalkers*), which should be a much larger number than your variables\n",
    "* the number of workers (*workers*) for multiprocessing (*workers=4* will spawn a multiprocessing-based pool with  4 parallel processes),\n",
    "* thin sampling accepting only 1 in every *thin* (int) samples,\n",
    "* whether the objective function has been weightes by measurement uncertainties (*is_weighted*, boolean),\n",
    "* whether a progress bar should be printed (*progress*, boolean),\n",
    "* and the *seed* (default: *seed=1234*).\n",
    "\n",
    "**Note:** The *is_weighted* keyword will be set to *True* by default. \n",
    "\n",
    "For a full documentation of the keyword arguments, please visit the [LMFIT emcee documentation](https://lmfit.github.io/lmfit-py/fitting.html#lmfit.minimizer.Minimizer.emcee). The list of keyword arguments can be accessed via *SpecFit.emcee_kws*. "
   ]
  },
  {
   "cell_type": "code",
   "execution_count": null,
   "metadata": {},
   "outputs": [],
   "source": [
    "for key in fit.emcee_kws:\n",
    "    print(key, fit.emcee_kws[key])"
   ]
  },
  {
   "cell_type": "markdown",
   "metadata": {},
   "source": [
    "Additional keywords can be added to this dictionary, which will be passed to the *SpecModel* fit function, once the *SpecFit* fitting method has been selected to be MCMC (see above). \n",
    "\n",
    "The default values **do not automatically constitute a good default choice**. The choice of those parameters is highly dependent on the model fit (e.g., number of variable parameters). In order to properly fit the CIV emission line we will adjust them:"
   ]
  },
  {
   "cell_type": "code",
   "execution_count": null,
   "metadata": {},
   "outputs": [],
   "source": [
    "# Set the MCMC keywords\n",
    "fit.emcee_kws['steps'] = 2000\n",
    "fit.emcee_kws['burn'] = 500\n",
    "# We are fitting 6 parameters so nwalker=50 is fine\n",
    "fit.emcee_kws['nwalkers'] = 25\n",
    "# No multiprocessing for now\n",
    "fit.emcee_kws['workers'] = 1\n",
    "fit.emcee_kws['thin'] = 2\n",
    "fit.emcee_kws['progress'] = True\n",
    "# Take uncertainties into account\n",
    "fit.emcee_kws['is_weighted'] = True"
   ]
  },
  {
   "cell_type": "markdown",
   "metadata": {},
   "source": [
    "**Before fitting any model using MCMC it is strongly advised to fit the model with a standard algorithm (e.g., 'Levenberg-Marquardt') after setting it up and then start the MCMC fit from the best-fit parameters.**\n",
    "\n",
    "In our case we already fitted all models to the quasar spectrum before saving it. Therefore, we can immediately fit the CIV emission line model. "
   ]
  },
  {
   "cell_type": "code",
   "execution_count": null,
   "metadata": {},
   "outputs": [],
   "source": [
    "# In case we have forgotten the index of the CIV SpecModel in the fit.specmodels list.\n",
    "for idx, specmodel in enumerate(fit.specmodels):\n",
    "    print(idx, specmodel.name)"
   ]
  },
  {
   "cell_type": "code",
   "execution_count": null,
   "metadata": {},
   "outputs": [],
   "source": [
    "# Select the CIV emission line SpecModel\n",
    "civ_model = fit.specmodels[2]\n",
    "\n",
    "# Fit the SpecModel using the MCMC method and emcee_kws modified above\n",
    "civ_model.fit()\n",
    "\n",
    "# Print the fit result\n",
    "print(civ_model.fit_result.fit_report())"
   ]
  },
  {
   "cell_type": "markdown",
   "metadata": {},
   "source": [
    "We visualize the fit result by plotting the CIV model fit."
   ]
  },
  {
   "cell_type": "code",
   "execution_count": null,
   "metadata": {},
   "outputs": [],
   "source": [
    "# Plot the fitted model \n",
    "civ_model.plot(xlim=[5500,7500])"
   ]
  },
  {
   "cell_type": "markdown",
   "metadata": {},
   "source": [
    "However, much more important is that we have a look at the sampled parameter space and the posterior distributions of the fit parameters. To do this we first retrieve the sampled flat chain and the plot it using the [*corner*](https://corner.readthedocs.io/en/latest/) package."
   ]
  },
  {
   "cell_type": "code",
   "execution_count": null,
   "metadata": {},
   "outputs": [],
   "source": [
    "# Retrieve the MCMC flat chain of the CIV model fit\n",
    "data = civ_model.fit_result.flatchain.to_numpy()\n",
    "# Visualize the flat chain fit results using the typical corner plot\n",
    "corner_plot = corner.corner(data,\n",
    "                            labels=civ_model.fit_result.var_names,\n",
    "                            quantiles=[0.16, 0.5, 0.84],\n",
    "                            show_titles=True,\n",
    "                            title_kwargs={\"fontsize\": 12}\n",
    "                            )\n",
    "plt.show()"
   ]
  },
  {
   "cell_type": "markdown",
   "metadata": {},
   "source": [
    "The posterior distributions of the fit parameters look quite well behaved. It seems we have appropriately sampled the parameter space. The plot illustrates strong covariance in some variable parameters pairs (e.g., CIV_A_amp and CIV_A_fwhm_km_s). For further analysis of the MCMC fit, we will now save the flat chain in a file using the *SpecModel.save_mcmc_chain* function, which takes a folder path as an argument. We will save the flat chain in the example fit folders."
   ]
  },
  {
   "cell_type": "code",
   "execution_count": null,
   "metadata": {},
   "outputs": [],
   "source": [
    "# Save the MCMC flatchain to a file for analysis\n",
    "civ_model.save_mcmc_chain('../example_spectrum_fit')\n",
    "\n",
    "! ls ../example_spectrum_fit/*.hdf5"
   ]
  },
  {
   "cell_type": "markdown",
   "metadata": {},
   "source": [
    "## Analyzing the MCMC fit results\n",
    "\n",
    "It is perfectly fine to work with the parameter fit results from the MCMC fit. However, we do have the full flat chain information and, therefore, it may be better to get posterior distributions for all the properties of the continuum or feature we are interested in. \n",
    "\n",
    "In a previous notebook tutorial we covered how to use *SpecAnalysis* to analyze our model fits. To construct posterior distributions of the CIV emission line properties we will now use the high-level *SpecAnalysis* function *analyze_mcmc_results*, which uses the *SpecAnalysis.analyze_continuum* and *SpecAnalysis.analyze_emission_feature* we have introduced earlier."
   ]
  },
  {
   "cell_type": "code",
   "execution_count": null,
   "metadata": {},
   "outputs": [],
   "source": [
    "# Import the SpecAnalysis and Cosmology modules\n",
    "from sculptor import specanalysis as scana\n",
    "from astropy.cosmology import FlatLambdaCDM"
   ]
  },
  {
   "cell_type": "markdown",
   "metadata": {},
   "source": [
    "We begin our analysis by specfiying the Cosmology we will be using and then import the model fit. "
   ]
  },
  {
   "cell_type": "code",
   "execution_count": null,
   "metadata": {},
   "outputs": [],
   "source": [
    "# Define Cosmology for cosmological conversions\n",
    "cosmo = FlatLambdaCDM(H0=70, Om0=0.3, Tcmb0=2.725)\n",
    "\n",
    "# Instantiate an empty SpecFit object\n",
    "fit = scfit.SpecFit()\n",
    "# Load the example spectrum fit\n",
    "fit.load('../example_spectrum_fit')"
   ]
  },
  {
   "cell_type": "markdown",
   "metadata": {},
   "source": [
    "The *analyze_mcmc_results* function is designed to automatically analyze the output of the MCMC analysis. The user specifies the folder with the MCMC output data and the function will search for any *_mcmc_chain.hdf5* files. As a second argument the function requires the full model fit information (SpecFit object). The third and fourth argument are dictionaries, *continuum_listdict* and *emission_feature_listdict*, which specify which continuum models and features should be analyzed.  \n",
    "\n",
    "The *continuum_listdict* and the *emission_feature_listdict* hold the arguments for the *SpecAnalysis.analyze_continuum* and *SpecAnalysis.analyze_emission_feature* functions that will be called by the MCMC analysis procedure. \n",
    "\n",
    "The following parameters should be specified in the *continuum_listdict*:\n",
    "* 'model_names' - list of model function prefixes for the full continuum model\n",
    "* 'rest_frame_wavelengths' - list of rest-frame wavelengths (float) for which fluxes, luminosities and magnitudes should be calculated\n",
    "\n",
    "The other arguments for the *SpecAnalysis.analyze_continuum* are provided to the MCMC analysis function separately.\n",
    "\n",
    "The following parameters should be specified in the *emission_feature_listdict*:\n",
    "* 'feature_name' - name of the emission feature, which will be used to name the resulting measurements in the output file\n",
    "* 'model_names' - list of model names to create the emission feature model flux from\n",
    "* 'rest_frame_wavelength' - rest-frame wavelength of the emission feature\n",
    "\n",
    "Additionally, one can specify:\n",
    "* 'disp_range' - 2 element list holding the lower and upper dispersion boundaries flux density integration\n",
    "\n",
    "For a list of all arguments and keyword arguments, have a look at the function header:\n",
    "    \n",
    "    :param foldername: Path to the folder with the MCMC flat chain hdf5 files.\n",
    "    :type foldername: string\n",
    "    :param specfit: Sculptor model fit (SpecFit object) containing the\n",
    "        information about the science spectrum, the SpecModels and parameters.\n",
    "    :type specfit: sculptor.specfit.SpecFit\n",
    "    :param continuum_dict: The *continuum_listdict* holds the arguments for\n",
    "        the *SpecAnalysis.analyze_continuum* function that will be called by\n",
    "        this procedure.\n",
    "    :type continuum_dict: dictionary\n",
    "    :param emission_feature_dictlist: The *emission_feature_listdict* hold the\n",
    "        arguments for the *SpecAnalysis.analyze_emission_feature* functions that\n",
    "        will be called by this procedure.\n",
    "    :type emission_feature_dictlist: dictionary\n",
    "    :param redshift: Source redshift\n",
    "    :type: float\n",
    "    :param cosmology: Cosmology for calculation of absolute properties\n",
    "    :type cosmology: astropy.cosmology.Cosmology\n",
    "    :param emfeat_meas: This keyword argument allows to specify the list of\n",
    "        emission feature measurements.\n",
    "        Currently possible measurements are ['peak_fluxden', 'peak_redsh', 'EW',\n",
    "        'FWHM', 'flux']. The value defaults to 'None' in which all measurements\n",
    "        are calculated\n",
    "    :type emfeat_meas: list(string)\n",
    "    :param cont_meas: This keyword argument allows to specify the list of\n",
    "        emission feature measurements.\n",
    "        Currently possible measurements are ['peak_fluxden', 'peak_redsh', 'EW',\n",
    "        'FWHM', 'flux']. The value defaults to 'None' in which all measurements\n",
    "        are calculated\n",
    "    :type cont_meas: list(string)\n",
    "    :param dispersion: This keyword argument allows to input a dispersion\n",
    "        axis (e.g., wavelengths) for which the model fluxes are calculated. The\n",
    "        value defaults to 'None', in which case the dispersion from the SpecFit\n",
    "        spectrum is being used.\n",
    "    :type dispersion: np.array\n",
    "    :param width: Window width in dispersion units to calculate the average\n",
    "        flux density in.\n",
    "    :type width: [float, float]\n",
    "    :param concatenate: Boolean to indicate whether the MCMC flat chain and\n",
    "        the analysis results should be concatenated before written to file.\n",
    "        (False = Only writes analysis results to file; True = Writes analysis\n",
    "        results and MCMC flat chain parameter values to file)\n",
    "    :type concatenate: bool\n",
    "\n",
    "**IMPORTANT: Only model functions that are sampled together can be analyzed together. Therefore, only model functions from ONE SpecModel can be analyzed together.**\n",
    "\n",
    "**THIS MEANS: For example, if you wanted to analyze the continuum model and the CIV emission line together using MCMC, you would have to fit them with ONE SpecModel. In our setup we have separate SpecModels for the continuum and the CIV line. Therefore, we cannot do that. However, to calculate the CIV equivalent width we need the continuum model. In this case we still need to specify the continuum model prefix for the analysis routine. It will build the best-fit continuum model and use it for the CIV analysis. As the best-fit continuum model was subtracted before the CIV line was fit using MCMC, this is the correct way of analzying the results as well.**\n",
    "\n",
    "\n",
    "What does the *analyze_mcmc_results* actually do?\n",
    "\n",
    "It identifies for which of the specified models (continuum/features) it can find the necessary MCMC flat chain information. If multiple continuum or feature models have been specified it will go through them one by one. For each entry in the flat chain file it will read in the model function parameters, build the model fluxes, and then analyze the model using the *SpecAnalysis.analyze_continuum* and *SpecAnalysis.analyze_emission_feature* functions. If you have very long MCMC chains, this process can easily take several minutes. A progress bar will keep you informed.\n",
    "\n",
    "What is the result of the *analyze_mcmc_results* function?\n",
    "\n",
    "The function will write an \"Enhanced Character Separated Values\" csv file to the same folder with the MCMC flat chain data. The csv file can be read in and then further manipulated with *astropy*. **Unit information on physical quantities is saved along with the values to the csv file.**\n",
    "\n",
    "Let us now set up both dictionaries for our example:"
   ]
  },
  {
   "cell_type": "code",
   "execution_count": null,
   "metadata": {},
   "outputs": [],
   "source": [
    "continuum_listdict = {'model_names': ['PL_'],\n",
    "                      'rest_frame_wavelengths': [1450, 1280]}\n",
    "\n",
    "emission_feature_listdict = [{'feature_name': 'CIV',\n",
    "                             'model_names' : ['CIV_A_', 'CIV_B_'],\n",
    "                             'rest_frame_wavelength': 1549.06}\n",
    "                                 ]"
   ]
  },
  {
   "cell_type": "markdown",
   "metadata": {},
   "source": [
    "And then run the *analyze_mcmc_results* function:"
   ]
  },
  {
   "cell_type": "code",
   "execution_count": null,
   "metadata": {},
   "outputs": [],
   "source": [
    "scana.analyse_mcmc_results('../example_spectrum_fit', fit,\n",
    "                           continuum_listdict,\n",
    "                           emission_feature_listdict,\n",
    "                           fit.redshift, cosmo)"
   ]
  },
  {
   "cell_type": "markdown",
   "metadata": {},
   "source": [
    "It can take a while until the MCMC anlysis finishes. The results are written into the same folder with the MCMC flat chain data. In our case we can find the analyzed results (*mcmc_analysis_CIV.csv*) in "
   ]
  },
  {
   "cell_type": "code",
   "execution_count": null,
   "metadata": {},
   "outputs": [],
   "source": [
    "! ls ../example_spectrum_fit/"
   ]
  },
  {
   "cell_type": "markdown",
   "metadata": {},
   "source": [
    "The analyzed data is saved in the enhanced csv format from astropy. We use *astropy.table.QTable* to read the file in, retaining the unit information on the analyzed properties. "
   ]
  },
  {
   "cell_type": "code",
   "execution_count": null,
   "metadata": {},
   "outputs": [],
   "source": [
    "from astropy.table import QTable\n",
    "\n",
    "t = QTable.read('../example_spectrum_fit/mcmc_analysis_CIV.csv', format='ascii.ecsv')\n",
    "t"
   ]
  },
  {
   "cell_type": "markdown",
   "metadata": {},
   "source": [
    "With the table data we can visualize the posterior distributions for all measurements and further analyze them."
   ]
  },
  {
   "cell_type": "code",
   "execution_count": null,
   "metadata": {},
   "outputs": [],
   "source": [
    "import numpy as np\n",
    "import matplotlib.pyplot as plt\n",
    "\n",
    "prop = 'CIV_FWHM'\n",
    "\n",
    "# Calculate median, lower and upper 1-sigma range\n",
    "med = np.median(t[prop])\n",
    "low = np.percentile(t[prop],16)\n",
    "upp = np.percentile(t[prop],84)\n",
    "\n",
    "print('Property: {}'.format(prop))\n",
    "print('Median: {:.2e}'.format(med))\n",
    "print('Lower 1-sigma: {:.2e}'.format(low))\n",
    "print('Upper 1-sigma: {:.2e}'.format(upp))\n",
    "\n",
    "fig = plt.figure()\n",
    "ax = fig.add_subplot(1,1,1)\n",
    "\n",
    "ax.hist(t[prop].value, bins=40)\n",
    "ax.axvline([med.value], ymin=0, ymax=1, color='#ff7f0e', lw=4, label='Median')\n",
    "ax.axvline(low.value, ymin=0, ymax=1, color='#ff7f0e', lw=2, ls='--', label=r'$1\\sigma$ uncertainties')\n",
    "ax.axvline(upp.value, ymin=0, ymax=1, color='#ff7f0e', lw=2, ls='--')\n",
    "plt.xlabel('{} ({})'.format(prop, med.unit))\n",
    "plt.ylabel('N')\n",
    "plt.legend()\n",
    "\n",
    "plt.show()"
   ]
  },
  {
   "cell_type": "code",
   "execution_count": null,
   "metadata": {},
   "outputs": [],
   "source": []
  }
 ],
 "metadata": {
  "kernelspec": {
   "display_name": "Python 3",
   "language": "python",
   "name": "python3"
  },
  "language_info": {
   "codemirror_mode": {
    "name": "ipython",
    "version": 3
   },
   "file_extension": ".py",
   "mimetype": "text/x-python",
   "name": "python",
   "nbconvert_exporter": "python",
   "pygments_lexer": "ipython3",
   "version": "3.7.6"
  }
 },
 "nbformat": 4,
 "nbformat_minor": 5
}
