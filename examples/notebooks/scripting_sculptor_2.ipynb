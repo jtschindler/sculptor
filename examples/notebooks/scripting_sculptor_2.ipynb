{
 "cells": [
  {
   "cell_type": "markdown",
   "metadata": {},
   "source": [
    "# Scripting Sculptor 02 - Analysing model fits with SpecAnalysis\n",
    "\n",
    "The next step after successfully fitting a model to the astronomical spectrum is the analysis of the model fit. The Sculptor *SpecAnalysis* module is designed to make this task easy with your Sculptor fit. While fitting a single function (e.g., a Gaussian) to an emission or absorption feature may be easy to analyze, deriving important quantities, such as the width, peak flux or equivalent width from multi-component line fits can be more tedious. Luckily, the *SpecAnalysis* module includes all of this functionality already. \n",
    "\n",
    "However, before we begin, we need to import the most important python packages. We will use numpy and the astropy.units and astropy.cosmology packages as well as the three sculptor modules *SpecOneD*, *SpecFit*, and - the topic of this notebook - *SpecAnalysis*.\n",
    "\n",
    "**DISCLAIMER: At the moment the SpecAnalysis functions are written for model spectra in WAVELENGTH units. If you are working with a science spectrum in FREQUENCY units, please convert all model spectra to wavelength before using the *SpecAnalysis* functionality.**\n",
    "\n",
    "**Note:** A lot of the functionality of the *SpecAnalysis* module presented here can also be used without using Sculptor to generate your model fits. You only need your model spectrum in a file. Then you can read it in as a *SpecOneD* object and analyse it using this module. "
   ]
  },
  {
   "cell_type": "code",
   "execution_count": null,
   "metadata": {},
   "outputs": [],
   "source": [
    "import numpy as np\n",
    "import pandas as pd\n",
    "from sculptor import speconed as scspec\n",
    "from sculptor import specfit as scfit\n",
    "from sculptor import specanalysis as scana\n",
    "\n",
    "from astropy import units\n",
    "from astropy.cosmology import FlatLambdaCDM"
   ]
  },
  {
   "cell_type": "markdown",
   "metadata": {},
   "source": [
    "As before, importing the SpecFit package prompts a few status messages of Sculptor to appear. \n",
    "\n",
    "For extragalactic sources it is important to specify the cosmology, to allow derivation of luminosities or absolute magnitudes."
   ]
  },
  {
   "cell_type": "code",
   "execution_count": null,
   "metadata": {},
   "outputs": [],
   "source": [
    "# Define Cosmology for cosmological conversions\n",
    "cosmo = FlatLambdaCDM(H0=70, Om0=0.3, Tcmb0=2.725)"
   ]
  },
  {
   "cell_type": "markdown",
   "metadata": {},
   "source": [
    "In the next step we import the saved Sculptor model fit."
   ]
  },
  {
   "cell_type": "code",
   "execution_count": null,
   "metadata": {},
   "outputs": [],
   "source": [
    "# Instantiate an empty SpecFit object\n",
    "fit = scfit.SpecFit()\n",
    "# Load the Sculptor model fit from its folder\n",
    "fit.load('../example_spectrum_fit')"
   ]
  },
  {
   "cell_type": "markdown",
   "metadata": {},
   "source": [
    "Now, we begin with building model spectra (*SpecOneD* objects) from the models in our fit. To do this you need to know the model prefixes you have chosen to uniquely identify your model functions. It does not matter if the model functions are in separate *SpecModel* instances in your model fit (*SpecFit* object) or not. The *SpecAnalysis* function *.build_model_flux* will go through all *SpecModels* to look for them. The first argument of the function will be the *SpecFit* object and the second one will be a list of strings denoting the model functions prefixes to choose.\n",
    "\n",
    "Our goal is to analyze the CIV emission line (model prefixes 'CIV_A_', 'CIV_B_') and the quasar continuum ('PL_'). However, to illustrate the point above, we will first build the model spectrum of both continuum and CIV line and display it."
   ]
  },
  {
   "cell_type": "code",
   "execution_count": null,
   "metadata": {},
   "outputs": [],
   "source": [
    "# Building the model flux from the CIV emission line and power law continuum model\n",
    "# This is done to illustrate how the .build_model_flux function finds model functions \n",
    "# independent of their SpecModel association in the SpecFit object. \n",
    "example_model_spec = scana.build_model_flux(fit, ['CIV_A_', 'CIV_B_', 'PL_'])\n",
    "example_model_spec.plot()"
   ]
  },
  {
   "cell_type": "markdown",
   "metadata": {},
   "source": [
    "As you can see above the *.build_model_flux* function used both the power law continuum and the emission line Gaussians from two different *SpecModels* in the *SpecFit* object to construct the model spectrum. However, in most cases one would want to choose to analyze the continuum independent of the emission lines. Therefore, we build two model spectra below. "
   ]
  },
  {
   "cell_type": "code",
   "execution_count": null,
   "metadata": {},
   "outputs": [],
   "source": [
    "# Build the continuum model spectrum\n",
    "cont_spec = scana.build_model_flux(fit, ['PL_'])\n",
    "# Build the CIV emission line model spectrum\n",
    "civ_spec = scana.build_model_flux(fit, ['CIV_A_', 'CIV_B_'])"
   ]
  },
  {
   "cell_type": "markdown",
   "metadata": {},
   "source": [
    "*Sculptor* offers some very high level functions for the analysis of both continuum and emission line features. However, we will first illustrate below how to derive important properties by hand using the lower level *SpecAnalysis* functionality.\n",
    "\n",
    "## Analyzing continuum properties\n",
    "\n",
    "We begin by analyzing the continuum. In the case of quasar spectroscopy, an important quantity is the flux/luminosity/magnitude at 1450A (rest-frame). \n",
    "\n",
    "### Calculating the average continuum flux density\n",
    "\n",
    "To calculate the flux density at a specific point in the model spectrum we use the *SpecAnalysis* function **.get_average_fluxden**. It calculates the average flux density of a spectrum (SpecOneD object, first argument) in a window centered at the specified dispersion (second argument) and with a given width (keyword argument, *width=10* default). The dispersion and the width need to be in the same quantity as the dispersion axis, i.e. the unit in which the dispersion axis is plotted if you would plot your model spectrum. A redshift keyword argument (*redshift=0*, default) can be specified, which automatically translates the rest-frame central dispersion value and the rest-frame width to the observed frame.\n",
    "\n",
    "**Note:** *Of course you can take your observed spectrum, import it as a SpecOneD object, and calculate the average continuum flux density directly from the science spectrum in regions unaffected by emission or absorption features with this function.*"
   ]
  },
  {
   "cell_type": "code",
   "execution_count": null,
   "metadata": {},
   "outputs": [],
   "source": [
    "# Calculate the average flux density at 1445-1455A rest-frame\n",
    "fluxden_1450 = scana.get_average_fluxden(cont_spec, 1450,\n",
    "                                         redshift=fit.redshift)\n",
    "\n",
    "print('Average flux density at 1450A: ',fluxden_1450)"
   ]
  },
  {
   "cell_type": "markdown",
   "metadata": {},
   "source": [
    "Note how the function automatically returns the **physical** value of the flux density **including** the unit. All of the *SpecAnalysis* functions are designed to work with the astropy.units package to automatically return results with units. This allows for easy conversions into different unit system and for double checking the that the returned values are actually reasonable. \n",
    "\n",
    "### Calculating the monochromatic continuum luminosity\n",
    "\n",
    "In the next step we will convert the average flux density to an average **monochromatic luminosity** using the cosmology (astropy.Cosmology object) defined above."
   ]
  },
  {
   "cell_type": "code",
   "execution_count": null,
   "metadata": {},
   "outputs": [],
   "source": [
    "lum_mono = scana.calc_lwav_from_fwav(fluxden_1450,\n",
    "                                     redshift=fit.redshift,\n",
    "                                     cosmology=cosmo)\n",
    "\n",
    "print('Monochromatic luminosity at 1450A: ', lum_mono)"
   ]
  },
  {
   "cell_type": "markdown",
   "metadata": {},
   "source": [
    "### Calculating the apparent monochromatic AB magnitude\n",
    "\n",
    "We calculate the apparent magnitude from the averaged flux density. To do this we use the *SpecAnalsysis* function *calc_apparent_mag_from_fluxden*. It takes the averaged flux density as the first argument and the central observed dispersion (wavelength or frequency) of the flux density as arguments. Note that the dispersion value should be a quantity (astropy.Quantity)."
   ]
  },
  {
   "cell_type": "code",
   "execution_count": null,
   "metadata": {},
   "outputs": [],
   "source": [
    "abmag = scana.calc_apparent_mag_from_fluxden(\n",
    "    fluxden_1450,\n",
    "    1450*(1.+fit.redshift)*units.AA)\n",
    "\n",
    "print('Apparent AB magnitude at 1450A: ', abmag)"
   ]
  },
  {
   "cell_type": "markdown",
   "metadata": {},
   "source": [
    "### Calculating the absolute monochromatic AB magnitude\n",
    "\n",
    "From here we can calculate the sources AB magnitude at 1450A in three different ways: \n",
    "1. Calculate the absolute magnitude from the the apparent magnitude \n",
    "2. Calculate the absolute magnitude from the flux density\n",
    "3. Calculate the absolute magnitude from the monochromatic luminosity\n",
    "\n",
    "Let's briefly go through all three possibilities.\n",
    "\n",
    "#### Calculate the absolute magnitude from the the apparent magnitude \n",
    "\n",
    "We calculated the apparent magnitude above. Now we only need to convert it to the absolute magnitude. In this step we need to specify the cosmology as well as to indicate how the flux should be corrected due to the change of the filter bandpass - the K-correction. For monochromatic magnitudes this is simply a scaling factor of (1+z) in flux. \n",
    "\n",
    "We use the *SpecAnalysis* function *calc_absolute_mag_from_apparent_mag*, which takes the apparent magnitude as the first argument, the cosmology (astropy.Cosmology) as the second argument and the redshift as the third argument. \n",
    "At present the function only allows to add the kcorrection for spectra with a power-law type continuum (power law index *a_nu*). \n",
    "\n",
    "**Note:**In the case of monochromatic magnitudes, the K-correction is specified by setting the *kcorrection* keyword argument to *True* and the power law slope to *a_nu=0*, independent of the source's continuum shape. (Incidentally these are the default values.) \n",
    "\n",
    "(For apparent to absolute magnitude conversions for bandpass magnitudes and non-power law continua, you can still use this function setting *kcorrection=False* and then apply the appropriate K-correction factor in magnitudes yourself.)"
   ]
  },
  {
   "cell_type": "code",
   "execution_count": null,
   "metadata": {},
   "outputs": [],
   "source": [
    "abs_abmag = scana.calc_absolute_mag_from_apparent_mag(abmag, cosmo,\n",
    "                                                   fit.redshift,\n",
    "                                                   kcorrection=True,\n",
    "                                                   a_nu=0)\n",
    "\n",
    "print('Absolute magnitude at 1450 (from apparent magnitude): ', abs_abmag)"
   ]
  },
  {
   "cell_type": "markdown",
   "metadata": {},
   "source": [
    "#### Calculate the absolute magnitude from the monochromatic luminosity\n",
    "\n",
    "We do not need to calculate the apparent monochromatic magnitude to get to the absolute monochromatic magnitude. We can directly compute this from the flux density at 1450A using the *SpecAnalysis.calc_absolute_mag_from_fluxden* function.\n",
    "\n",
    "However, the function goes through the same steps as we did above. Therefore, we also need to specify the K-correction and power law slope keywords on top of the monochromatic flux density (first argument), the observed dispersion (second argument), the cosmology (third argument), and the redshift (fourth argument)."
   ]
  },
  {
   "cell_type": "code",
   "execution_count": null,
   "metadata": {},
   "outputs": [],
   "source": [
    "abs_abmag2 = scana.calc_absolute_mag_from_fluxden(\n",
    "    fluxden_1450, 1450*(1.+fit.redshift) * units.AA,\n",
    "    cosmo, fit.redshift, kcorrection=True, a_nu=0)\n",
    "\n",
    "print('Absolute magnitude at 1450 (from monochr. flux density): ', abs_abmag2)"
   ]
  },
  {
   "cell_type": "markdown",
   "metadata": {},
   "source": [
    "#### Calculate the absolute magnitude from the monochromatic luminosity\n",
    "\n",
    "We already calculated the monochromatic luminosity above. Of course we can directly calculate the absolute magnitude from the monochromatic luminosity. In the *SpecAnalysis* module the function *calc_absolute_mag_from_monochromatic_luminosity* does that for you. You specify the monochromatic luminosity and the corresponding **rest-frame wavelength** value as the first and second arguments. The cosmological corrections were already applied, when calculating the monochromatic luminosity above."
   ]
  },
  {
   "cell_type": "code",
   "execution_count": null,
   "metadata": {},
   "outputs": [],
   "source": [
    "abs_abmag3 = scana.calc_absolute_mag_from_monochromatic_luminosity(lum_mono, 1450*units.AA)\n",
    "\n",
    "print('Absolute magnitude at 1450 (from monochr. luminosity): ', abs_abmag3)"
   ]
  },
  {
   "cell_type": "markdown",
   "metadata": {},
   "source": [
    "As you can see all three functions to calculate the absolute magnitude lead to the same value of ~-27.9 mag. \n",
    "\n",
    "## Analyzing line properties\n",
    "\n",
    "We now turn to calculate line properties. In our example, we will focus on the CIV emission line of the example quasar spectrum. We modeled the CIV line with two Gaussian components and stored the model flux in a *SpecOneD* object, called civ_spec. Let's first check if the model flux looks reasonable."
   ]
  },
  {
   "cell_type": "code",
   "execution_count": null,
   "metadata": {},
   "outputs": [],
   "source": [
    "# Plot the CIV model flux spectrum, adjusting the y-axis limits\n",
    "civ_spec.plot(ymin=0, ymax=20)"
   ]
  },
  {
   "cell_type": "markdown",
   "metadata": {},
   "source": [
    "The model flux specturm look reasonable, so we can continue!\n",
    "\n",
    "### The peak flux density\n",
    "\n",
    "In order to calculate the peak flux density, we can rely on the *numpy* package:"
   ]
  },
  {
   "cell_type": "code",
   "execution_count": null,
   "metadata": {},
   "outputs": [],
   "source": [
    "civ_peak_fluxden = np.max(civ_spec.fluxden)*civ_spec.fluxden_unit\n",
    "print('CIV peak flux density: {:.2e}'.format(civ_peak_fluxden))"
   ]
  },
  {
   "cell_type": "markdown",
   "metadata": {},
   "source": [
    "### The peak redshift\n",
    "\n",
    "Although this calculation is quite simply, we have decided to add this functionality to the *SpecAnalysis* module with the *get_peak_redshift* function. It requires the line model spectrum and the rest-frame wavelength of the feature."
   ]
  },
  {
   "cell_type": "code",
   "execution_count": null,
   "metadata": {},
   "outputs": [],
   "source": [
    "civ_z = scana.get_peak_redshift(civ_spec, 1549.06)\n",
    "print('CIV peak redshift: {:.3f}'.format(civ_z))"
   ]
  },
  {
   "cell_type": "markdown",
   "metadata": {},
   "source": [
    "### The line Full Width at Half Maximum (FWHM)\n",
    "\n",
    "For line models with a single Gaussian component, the FWHM can be directly retrieved from the model function. However, for composite lines it is more difficult to define and then calculate a FWHM. \n",
    "The *SpecAnalysis* implementation for calculating the FWHM **get_fwhm**, follows the simplest definition of the FWHM: \n",
    "\n",
    "It calculates the peak flux density and then sets up a spline interpolation subtracting half of the peak flux density from the model spectrum. If the line model flux is well defined the resulting spline should have exactly two roots (model flux = 0). The function returns the dispersion difference between the two roots. If the line feature has multiple components more or less than two roots can be found in which case a np.NaN value will be returned.\n",
    "\n",
    "**Correction for spectral resolution:** The keyword argument *resolution* allows to specify the spectral resolution in R = Lambda/Delta Lambda. If the *resolution* value is not *None*, the spectral resolution will be subtracted from the FWHM of the line feature (assuming FWHM_corr^2 = FWHM^2 - Resolution_km_s^2). If you specify the resolution, an info message will let you know that the function has corrected the FWHM for it. "
   ]
  },
  {
   "cell_type": "code",
   "execution_count": null,
   "metadata": {},
   "outputs": [],
   "source": [
    "# Calculate the CIV FWHM\n",
    "civ_fwhm = scana.get_fwhm(civ_spec)\n",
    "print('CIV FWHM: {:.2f}'.format(civ_fwhm))\n",
    "\n",
    "# Calculate the CIV FWHM, taking into account a spectral resolution of R=1000\n",
    "civ_fwhm = scana.get_fwhm(civ_spec, resolution=1000)\n",
    "print('CIV FWHM (accounting for spectral resolution): {:.2f}'.format(civ_fwhm))"
   ]
  },
  {
   "cell_type": "markdown",
   "metadata": {},
   "source": [
    "### The integrated line flux \n",
    "\n",
    "The integrated line flux is easily calculated by the *get_integrated_flux* function of the *SpecAnalysis* module. By default the line model spectrum will be integrated over its full length. However, you can specify the *disp_range* keyword argument, setting the integration boundaries in units of the dispersion axis manually. "
   ]
  },
  {
   "cell_type": "code",
   "execution_count": null,
   "metadata": {},
   "outputs": [],
   "source": [
    "civ_flux = scana.get_integrated_flux(civ_spec)\n",
    "print('CIV integrated flux: {:.2e}'.format(civ_flux))"
   ]
  },
  {
   "cell_type": "markdown",
   "metadata": {},
   "source": [
    "### The integrated line luminosity\n",
    "\n",
    "In a similar fashion you can calculate the integrated line luminosity. In addition to the line model spectrum, the function takes the source redshift and the cosmology as the second and third argument. "
   ]
  },
  {
   "cell_type": "code",
   "execution_count": null,
   "metadata": {},
   "outputs": [],
   "source": [
    "civ_line_lum = scana.calc_integrated_luminosity(civ_spec,\n",
    "                                                fit.redshift,\n",
    "                                                cosmo)\n",
    "print('CIV integrated line luminosity: {:.2e} '.format(civ_line_lum))"
   ]
  },
  {
   "cell_type": "markdown",
   "metadata": {},
   "source": [
    "### The line equivalent width (observed-frame/rest-frame)\n",
    "\n",
    "An important property of an emission or absorption feature is its equivalent width. For this calculation we need both the continuum model flux (cont_spec) and the line model flux (civ_spec). In order to calculate the rest-frame equivalent width for extragalactic sources the *redshift* keyword also needs to be specified. \n",
    "In the *SpecAnalysis* module the *get_equivalent_width* function calculates the equivalent width. For our example we use the CIV redshift that we determined above in this calculation. If we don't specify the redshift, the function returns the observed-frame equivalent width."
   ]
  },
  {
   "cell_type": "code",
   "execution_count": null,
   "metadata": {},
   "outputs": [],
   "source": [
    "# Calculate the rest-frame equivalent width\n",
    "civ_ew = scana.get_equivalent_width(cont_spec, civ_spec, redshift=civ_z)\n",
    "print('CIV EW (rest-frame): {:.2f}'.format(civ_ew))\n",
    "\n",
    "# Calculate the observed-frame equivalent width\n",
    "civ_ew = scana.get_equivalent_width(cont_spec, civ_spec)\n",
    "print('CIV EW (observed-frame): {:.2f}'.format(civ_ew))"
   ]
  },
  {
   "cell_type": "markdown",
   "metadata": {},
   "source": [
    "## High-level SpecAnalysis routines\n",
    "\n",
    "We have written high-level *SpecAnalysis* routines that automatically calculate a range of continuum and line properties for you using the functions described above.\n",
    "\n",
    "### SpecAnalysis.analyze_continuum\n",
    "\n",
    "The *analyze_continuum* routine allows for automatic continuum analysis. It takes four important arguments:\n",
    "* the SpecFit object\n",
    "* a list of model prefix names that make up the continuum model\n",
    "* a list of rest-frame wavelengths (float) for which fluxes, luminosities and magnitudes should be calculated\n",
    "* the cosmology (astropy.Cosmology)\n",
    "\n",
    "The most important keyword argument is *cont_meas*, which stands for continuum measurements. The full list of continuum measurements available in the SpecAnalysis module is:"
   ]
  },
  {
   "cell_type": "code",
   "execution_count": null,
   "metadata": {},
   "outputs": [],
   "source": [
    "print(scana.cont_measures_default)"
   ]
  },
  {
   "cell_type": "markdown",
   "metadata": {},
   "source": [
    "By default all of these will be calculated. For the full list of keyword arguments, please directly consult the documentation. \n",
    "\n",
    "The function returns a dictionary with the results.\n",
    "\n",
    "In the following example, we will analyze the continuum of the example spectrum at rest-frame wavelengths of 1450A (as above) and 1280A. "
   ]
  },
  {
   "cell_type": "code",
   "execution_count": null,
   "metadata": {},
   "outputs": [],
   "source": [
    "# Define Cosmology for cosmological conversions\n",
    "cosmo = FlatLambdaCDM(H0=70, Om0=0.3, Tcmb0=2.725)\n",
    "\n",
    "# Import the saved example spectrum\n",
    "fit = scfit.SpecFit()\n",
    "fit.load('../example_spectrum_fit')\n",
    "\n",
    "# Use the continuum analysis function\n",
    "cont_result = scana.analyze_continuum(fit, ['PL_'],\n",
    "                                      [1450, 1280],\n",
    "                                      cosmo, width=10)\n",
    "\n",
    "# Print the results from the dictionary\n",
    "for key in cont_result.keys():\n",
    "    print('{} = {:.2e}'.format(key, cont_result[key]))"
   ]
  },
  {
   "cell_type": "markdown",
   "metadata": {},
   "source": [
    "### SpecAnalysis.analyze_emission_feature\n",
    "\n",
    "**Disclaimer**:At this point we have only implemented an automatic high-level analysis for emission features. A more general function for both absorption and emission lines or, alternatively, a separate function for absorption lines is on our To-Do list.\n",
    "\n",
    "In similar fashion to the *analyze_continuum* function above, *analyze_emission_feature* takes four important arguments:\n",
    "* the SpecFit object\n",
    "* the name of the emission feature, which will be used to name the resulting measurements in the output dictionary\n",
    "* a list of model names to create the emission feature flux from\n",
    "* the rest-frame wavelength of the emission feature\n",
    "\n",
    "The cosmology is a keyword argument for this function (*cosmology*, astropy.Cosmology). Another important keyword argument is *emfeat_meas*, which stands for emission feature measurements and is a list of strings. The full list of possible emission feature measurements (and the default value) is: "
   ]
  },
  {
   "cell_type": "code",
   "execution_count": null,
   "metadata": {},
   "outputs": [],
   "source": [
    "print(scana.emfeat_measures_default)"
   ]
  },
  {
   "cell_type": "markdown",
   "metadata": {},
   "source": [
    "For a full list of all available keyword arguments, please directly consult the documentation of the *SpecAnalysis* module.\n",
    "\n",
    "In the following example we will repeat our analysis of the CIV line from above. Note, that in order to calculate the equvialent width we also need to specify the cont_model_names to generate the continuum model flux."
   ]
  },
  {
   "cell_type": "code",
   "execution_count": null,
   "metadata": {},
   "outputs": [],
   "source": [
    "# Use the emission feature analysis function to analyze the CIV line\n",
    "civ_result = scana.analyze_emission_feature(\n",
    "    fit, 'CIV', ['CIV_A_', 'CIV_B_'], 1549.06, cont_model_names=['PL_'],\n",
    "    redshift=fit.redshift, emfeat_meas=None, cosmology=cosmo)\n",
    "\n",
    "# Print the results from the dictionary\n",
    "for key in civ_result.keys():\n",
    "    print('{} = {:.2e}'.format(key, civ_result[key]))"
   ]
  },
  {
   "cell_type": "code",
   "execution_count": null,
   "metadata": {},
   "outputs": [],
   "source": []
  }
 ],
 "metadata": {
  "kernelspec": {
   "display_name": "Python 3",
   "language": "python",
   "name": "python3"
  },
  "language_info": {
   "codemirror_mode": {
    "name": "ipython",
    "version": 3
   },
   "file_extension": ".py",
   "mimetype": "text/x-python",
   "name": "python",
   "nbconvert_exporter": "python",
   "pygments_lexer": "ipython3",
   "version": "3.7.6"
  }
 },
 "nbformat": 4,
 "nbformat_minor": 5
}
